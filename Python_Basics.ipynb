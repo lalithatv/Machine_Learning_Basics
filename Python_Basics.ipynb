{
  "nbformat": 4,
  "nbformat_minor": 0,
  "metadata": {
    "colab": {
      "name": "Copy of Python Basics.ipynb",
      "provenance": [],
      "collapsed_sections": [],
      "authorship_tag": "ABX9TyPeLCaTx28x5BWl4BbY42Vg",
      "include_colab_link": true
    },
    "kernelspec": {
      "name": "python3",
      "display_name": "Python 3"
    }
  },
  "cells": [
    {
      "cell_type": "markdown",
      "metadata": {
        "id": "view-in-github",
        "colab_type": "text"
      },
      "source": [
        "<a href=\"https://colab.research.google.com/github/lalithatv/Machine_Learning_Basics/blob/master/Python_Basics.ipynb\" target=\"_parent\"><img src=\"https://colab.research.google.com/assets/colab-badge.svg\" alt=\"Open In Colab\"/></a>"
      ]
    },
    {
      "cell_type": "markdown",
      "metadata": {
        "id": "0J3HWPU-dQM_"
      },
      "source": [
        "**Hello word in Python**"
      ]
    },
    {
      "cell_type": "code",
      "metadata": {
        "id": "_XLxRac-dWcw"
      },
      "source": [
        "print(\"Hello world! How are you?\")\r\n"
      ],
      "execution_count": null,
      "outputs": []
    },
    {
      "cell_type": "markdown",
      "metadata": {
        "id": "-OSatwB4eO2P"
      },
      "source": [
        "**DATA TYPE**"
      ]
    },
    {
      "cell_type": "code",
      "metadata": {
        "id": "IgouuJ5Oeh-T"
      },
      "source": [
        "a = 12\r\n",
        "print(a)\r\n",
        "print(type(a))"
      ],
      "execution_count": null,
      "outputs": []
    },
    {
      "cell_type": "code",
      "metadata": {
        "id": "3bmcU33hfWMG"
      },
      "source": [
        "b = 1.2\r\n",
        "print(b)\r\n",
        "print(type(b))"
      ],
      "execution_count": null,
      "outputs": []
    },
    {
      "cell_type": "code",
      "metadata": {
        "colab": {
          "base_uri": "https://localhost:8080/"
        },
        "id": "_LLAzUTRfern",
        "outputId": "ca7fa4e0-acda-4c4e-8db0-023e7ab03c6f"
      },
      "source": [
        "c = \"Python\"\r\n",
        "print(c)\r\n",
        "print(type(c))"
      ],
      "execution_count": null,
      "outputs": [
        {
          "output_type": "stream",
          "text": [
            "Python\n",
            "<class 'str'>\n"
          ],
          "name": "stdout"
        }
      ]
    },
    {
      "cell_type": "code",
      "metadata": {
        "id": "Us097ejWfpyS"
      },
      "source": [
        "d = True\r\n",
        "print(d)\r\n",
        "print(type(d))"
      ],
      "execution_count": null,
      "outputs": []
    },
    {
      "cell_type": "code",
      "metadata": {
        "colab": {
          "base_uri": "https://localhost:8080/"
        },
        "id": "cM_oH-WgfxiE",
        "outputId": "7a04464c-99e2-41e7-f513-08853e908e48"
      },
      "source": [
        "a, b, c = 1, 2, 3\r\n",
        "a, b, c = 1, 3.5, \"hello\"\r\n",
        "print(type(a))\r\n",
        "print(type(b))\r\n",
        "print(type(c))"
      ],
      "execution_count": null,
      "outputs": [
        {
          "output_type": "stream",
          "text": [
            "<class 'int'>\n",
            "<class 'float'>\n",
            "<class 'str'>\n"
          ],
          "name": "stdout"
        }
      ]
    },
    {
      "cell_type": "markdown",
      "metadata": {
        "id": "_u0h80d_hahP"
      },
      "source": [
        "**Math Operation**"
      ]
    },
    {
      "cell_type": "code",
      "metadata": {
        "id": "gnD5WUkihgU6"
      },
      "source": [
        "a = 10\r\n",
        "print(a + 1)\r\n",
        "print(a - 1)\r\n",
        "print(a * 2)\r\n",
        "print(a / 2)\r\n",
        "print(a ** 2)\r\n",
        "print(a // 2)"
      ],
      "execution_count": null,
      "outputs": []
    },
    {
      "cell_type": "markdown",
      "metadata": {
        "id": "VIW4Mz_niZDK"
      },
      "source": [
        "**Boolean Operation**"
      ]
    },
    {
      "cell_type": "code",
      "metadata": {
        "colab": {
          "base_uri": "https://localhost:8080/"
        },
        "id": "1yWy0tJ9iko5",
        "outputId": "d9cd7f19-96b1-4799-c187-2bc7745a1026"
      },
      "source": [
        "x = True\r\n",
        "y = False\r\n",
        "print (x and y)\r\n",
        "print (x or y)\r\n",
        "print (not x)\r\n",
        "print (x & y)"
      ],
      "execution_count": null,
      "outputs": [
        {
          "output_type": "stream",
          "text": [
            "False\n",
            "True\n",
            "False\n",
            "False\n"
          ],
          "name": "stdout"
        }
      ]
    },
    {
      "cell_type": "markdown",
      "metadata": {
        "id": "OcGsMisqjyc7"
      },
      "source": [
        "**Conditions**"
      ]
    },
    {
      "cell_type": "code",
      "metadata": {
        "id": "pH9wMTAej1WG",
        "colab": {
          "base_uri": "https://localhost:8080/"
        },
        "outputId": "66f9da2b-f54a-4a0c-f09c-2dc1970115f3"
      },
      "source": [
        "import random\r\n",
        "a = [50,100,200,300]\r\n",
        "b = random.choice(a)\r\n",
        "print(b)"
      ],
      "execution_count": null,
      "outputs": [
        {
          "output_type": "stream",
          "text": [
            "50\n"
          ],
          "name": "stdout"
        }
      ]
    },
    {
      "cell_type": "code",
      "metadata": {
        "colab": {
          "base_uri": "https://localhost:8080/"
        },
        "id": "V5nax9Nu20tB",
        "outputId": "e697da74-aa88-4261-9871-86b745c9cd59"
      },
      "source": [
        "if(b < 100):\r\n",
        "  print(\"Number - \" + str(b) + \" is lesser than 100\")\r\n",
        "  print( \"Yes it is less than 100\")\r\n",
        "elif(b >= 100 and b<200):\r\n",
        "  print(\"Number - \" + str(b) + \" is greater than or equal to 100 but lesser than 200\")\r\n",
        "else:\r\n",
        "  print(\"Number - \" + str(b) + \" is greater than or equal to 200\")\r\n"
      ],
      "execution_count": null,
      "outputs": [
        {
          "output_type": "stream",
          "text": [
            "Number - 50 is lesser than 100\n",
            "Yes it is less than 100\n"
          ],
          "name": "stdout"
        }
      ]
    },
    {
      "cell_type": "markdown",
      "metadata": {
        "id": "4sIqzcuQ5Krx"
      },
      "source": [
        "**Loops**"
      ]
    },
    {
      "cell_type": "code",
      "metadata": {
        "id": "2N0G6I5a5Mx5"
      },
      "source": [
        "c = 0\r\n",
        "while( c < 10):\r\n",
        "  print(c,end='')\r\n",
        "  c+=1"
      ],
      "execution_count": null,
      "outputs": []
    },
    {
      "cell_type": "code",
      "metadata": {
        "id": "rXyOF5vy-Hfq"
      },
      "source": [
        "numbers =  [1, 2 ,4 ]\r\n",
        "#for( i=0 ; i<len(numbers) ; i++ )\r\n",
        "for x in numbers:\r\n",
        "  print(x, end = ' ')"
      ],
      "execution_count": null,
      "outputs": []
    },
    {
      "cell_type": "code",
      "metadata": {
        "id": "rGq42_i1-tlg"
      },
      "source": [
        "for c in range(5):#for(i=0; i < 5 ; i++ )\r\n",
        "  print(c)"
      ],
      "execution_count": null,
      "outputs": []
    },
    {
      "cell_type": "code",
      "metadata": {
        "id": "YFLP4fNCCvYF"
      },
      "source": [
        "for c in range(0,10,2):#for(i=0; i <10; i+2 )\r\n",
        "  print(c)"
      ],
      "execution_count": null,
      "outputs": []
    },
    {
      "cell_type": "code",
      "metadata": {
        "id": "0gy1h05AC2jB"
      },
      "source": [
        "for c in range(10,0,-2):#for(i=10; i>0 ; i-2)\r\n",
        "  print(c)\r\n"
      ],
      "execution_count": null,
      "outputs": []
    },
    {
      "cell_type": "markdown",
      "metadata": {
        "id": "l7rgwrgVp4WL"
      },
      "source": [
        "**String Operations**"
      ]
    },
    {
      "cell_type": "code",
      "metadata": {
        "id": "d9kt97f2uFHe"
      },
      "source": [
        "a = \"Python\"\r\n",
        "b = \"  is python is awesome!\"\r\n",
        "print(a)\r\n",
        "print(b)"
      ],
      "execution_count": null,
      "outputs": []
    },
    {
      "cell_type": "code",
      "metadata": {
        "id": "ouVICLRl1W9n"
      },
      "source": [
        "print( a+b )\r\n",
        "print ( a,b )"
      ],
      "execution_count": null,
      "outputs": []
    },
    {
      "cell_type": "code",
      "metadata": {
        "id": "uEQSwIze1hBU"
      },
      "source": [
        "print(\"this is a {} this is b {}\" . format(a,b))\r\n",
        "print(\"%s%s\" %(a,b))"
      ],
      "execution_count": null,
      "outputs": []
    },
    {
      "cell_type": "code",
      "metadata": {
        "id": "2FUVcx4L2FD9"
      },
      "source": [
        "print(a.upper())\r\n",
        "print(a.lower())"
      ],
      "execution_count": null,
      "outputs": []
    },
    {
      "cell_type": "code",
      "metadata": {
        "id": "wBYs0TwC2QOA"
      },
      "source": [
        "print(b.strip())\r\n",
        "print(b.replace(\"awesome\",\"great\"))"
      ],
      "execution_count": null,
      "outputs": []
    },
    {
      "cell_type": "code",
      "metadata": {
        "id": "gs0WvefB2dYM"
      },
      "source": [
        "if a in b:\r\n",
        "  print(\"TRUE\")\r\n",
        "else:\r\n",
        "  print(\"FALSE\")"
      ],
      "execution_count": null,
      "outputs": []
    },
    {
      "cell_type": "markdown",
      "metadata": {
        "id": "Rh4OdCk-2y4a"
      },
      "source": [
        "**Data Structures**"
      ]
    },
    {
      "cell_type": "markdown",
      "metadata": {
        "id": "xnDBnY6y3frs"
      },
      "source": [
        "**LISTS**"
      ]
    },
    {
      "cell_type": "code",
      "metadata": {
        "colab": {
          "base_uri": "https://localhost:8080/"
        },
        "id": "sbJj6viR3i40",
        "outputId": "d1ed7c0e-c735-43eb-be20-c5f29bd55e74"
      },
      "source": [
        "l = [ 1, 2, 3, 4, 5 ]\r\n",
        "print(len(l))"
      ],
      "execution_count": null,
      "outputs": [
        {
          "output_type": "stream",
          "text": [
            "5\n"
          ],
          "name": "stdout"
        }
      ]
    },
    {
      "cell_type": "code",
      "metadata": {
        "colab": {
          "base_uri": "https://localhost:8080/"
        },
        "id": "GkFYLT8eH3TF",
        "outputId": "49f5a96d-7e0d-404a-993d-d98f319c3f9a"
      },
      "source": [
        "print(l[0])\r\n",
        "print(l[1])\r\n",
        "print(l[4])"
      ],
      "execution_count": null,
      "outputs": [
        {
          "output_type": "stream",
          "text": [
            "1\n",
            "2\n",
            "5\n"
          ],
          "name": "stdout"
        }
      ]
    },
    {
      "cell_type": "code",
      "metadata": {
        "colab": {
          "base_uri": "https://localhost:8080/"
        },
        "id": "VXUqEfDpIF8L",
        "outputId": "1aa8e138-3aa9-4510-c512-d3d3960c565d"
      },
      "source": [
        "print(l[len(l)-1])\r\n",
        "print(l[-1])"
      ],
      "execution_count": null,
      "outputs": [
        {
          "output_type": "stream",
          "text": [
            "5\n",
            "5\n"
          ],
          "name": "stdout"
        }
      ]
    },
    {
      "cell_type": "code",
      "metadata": {
        "colab": {
          "base_uri": "https://localhost:8080/"
        },
        "id": "--2oyuGHIYnw",
        "outputId": "68b7e902-b8a7-4ee2-ac72-b2a3538c7631"
      },
      "source": [
        "l.append(6)\r\n",
        "print(l)\r\n",
        "\r\n",
        "u=item = l.pop()\r\n",
        "print(item)\r\n",
        "\r\n",
        "l.append(\"string\")\r\n",
        "print(l)"
      ],
      "execution_count": null,
      "outputs": [
        {
          "output_type": "stream",
          "text": [
            "[1, 2, 3, 4, 5, 6]\n",
            "6\n",
            "[1, 2, 3, 4, 5, 'string']\n"
          ],
          "name": "stdout"
        }
      ]
    },
    {
      "cell_type": "code",
      "metadata": {
        "colab": {
          "base_uri": "https://localhost:8080/"
        },
        "id": "UH6wKQTUIsO4",
        "outputId": "9a8e6153-cf73-44ce-b258-f468b8e2e63d"
      },
      "source": [
        "l = [ 10,20,30,40,50 ]\r\n",
        "print(l[ 1 : 2 ])\r\n",
        "print(l[ 1 : 3 ])\r\n",
        "print(l[ 0 : ])\r\n",
        "print(l[ 0 :-1 ])\r\n",
        "print(l[ : ])"
      ],
      "execution_count": null,
      "outputs": [
        {
          "output_type": "stream",
          "text": [
            "[20]\n",
            "[20, 30]\n",
            "[10, 20, 30, 40, 50]\n",
            "[10, 20, 30, 40]\n",
            "[10, 20, 30, 40, 50]\n"
          ],
          "name": "stdout"
        }
      ]
    },
    {
      "cell_type": "code",
      "metadata": {
        "colab": {
          "base_uri": "https://localhost:8080/"
        },
        "id": "E_NMEgd1JU49",
        "outputId": "57c5f696-a1fd-43f3-9fdb-174c259c78a0"
      },
      "source": [
        "b = [ 5, 7, 2, 4, 9 ]\r\n",
        "b.sort()\r\n",
        "print(b)"
      ],
      "execution_count": null,
      "outputs": [
        {
          "output_type": "stream",
          "text": [
            "[2, 4, 5, 7, 9]\n"
          ],
          "name": "stdout"
        }
      ]
    },
    {
      "cell_type": "code",
      "metadata": {
        "colab": {
          "base_uri": "https://localhost:8080/"
        },
        "id": "GlMZplaEJgjo",
        "outputId": "bacb11c1-4ecd-4737-f13c-e7be435b9e92"
      },
      "source": [
        "b.sort (reverse= True)\r\n",
        "print(b)"
      ],
      "execution_count": null,
      "outputs": [
        {
          "output_type": "stream",
          "text": [
            "[9, 7, 5, 4, 2]\n"
          ],
          "name": "stdout"
        }
      ]
    },
    {
      "cell_type": "code",
      "metadata": {
        "colab": {
          "base_uri": "https://localhost:8080/"
        },
        "id": "Pm65nZG9Jz0Z",
        "outputId": "b96f165a-c2f8-4850-eb8e-959af77be1c9"
      },
      "source": [
        "a = [ \"dhoni\" , \"sachin\" , \"warner\", \"abd\"]\r\n",
        "a.reverse()\r\n",
        "print(a)"
      ],
      "execution_count": null,
      "outputs": [
        {
          "output_type": "stream",
          "text": [
            "['abd', 'warner', 'sachin', 'dhoni']\n"
          ],
          "name": "stdout"
        }
      ]
    },
    {
      "cell_type": "code",
      "metadata": {
        "colab": {
          "base_uri": "https://localhost:8080/"
        },
        "id": "dYcCjxucKR_7",
        "outputId": "5a286da9-ed6c-48b4-d932-fb746617ac45"
      },
      "source": [
        "a = [66,55,44,22,11,55,22]\r\n",
        "print(a.count(22))"
      ],
      "execution_count": null,
      "outputs": [
        {
          "output_type": "stream",
          "text": [
            "2\n"
          ],
          "name": "stdout"
        }
      ]
    },
    {
      "cell_type": "markdown",
      "metadata": {
        "id": "N1s8A73pKclq"
      },
      "source": [
        "**Tuples**"
      ]
    },
    {
      "cell_type": "code",
      "metadata": {
        "colab": {
          "base_uri": "https://localhost:8080/"
        },
        "id": "Tts3lUBGKgPt",
        "outputId": "f65f0940-b9f4-4ffc-bd55-9a7762f4810b"
      },
      "source": [
        "t = (200,500)\r\n",
        "print(type(t))\r\n",
        "print(t[1])"
      ],
      "execution_count": null,
      "outputs": [
        {
          "output_type": "stream",
          "text": [
            "<class 'tuple'>\n",
            "500\n"
          ],
          "name": "stdout"
        }
      ]
    },
    {
      "cell_type": "code",
      "metadata": {
        "colab": {
          "base_uri": "https://localhost:8080/"
        },
        "id": "iGEqhLOtKt4d",
        "outputId": "eacc6395-582c-4758-d43a-e0266b50d1bf"
      },
      "source": [
        "print(len(t))\r\n",
        "print(max(t))\r\n",
        "print(min(t))"
      ],
      "execution_count": null,
      "outputs": [
        {
          "output_type": "stream",
          "text": [
            "2\n",
            "500\n",
            "200\n"
          ],
          "name": "stdout"
        }
      ]
    },
    {
      "cell_type": "code",
      "metadata": {
        "colab": {
          "base_uri": "https://localhost:8080/"
        },
        "id": "azvcNBIIK3QS",
        "outputId": "185d67aa-a19c-4649-fe7d-061ff2ef45ad"
      },
      "source": [
        "l = [ 400,800,1200]\r\n",
        "l_to_t = tuple(l)\r\n",
        "print(type(l_to_t))\r\n"
      ],
      "execution_count": null,
      "outputs": [
        {
          "output_type": "stream",
          "text": [
            "<class 'tuple'>\n"
          ],
          "name": "stdout"
        }
      ]
    },
    {
      "cell_type": "markdown",
      "metadata": {
        "id": "ga04p_mZLTPv"
      },
      "source": [
        "**Dictionary**"
      ]
    },
    {
      "cell_type": "code",
      "metadata": {
        "id": "OeiSmQV9LWtj"
      },
      "source": [
        "d = { \"1\" : \"Iron Man\",\r\n",
        "     \"2\" : \"Captain america\",\r\n",
        "     \"3\" : \"Thor\"\r\n",
        "    \r\n",
        "}"
      ],
      "execution_count": null,
      "outputs": []
    },
    {
      "cell_type": "code",
      "metadata": {
        "colab": {
          "base_uri": "https://localhost:8080/"
        },
        "id": "KC8RlbhNLsze",
        "outputId": "c49d11b4-c49e-436e-e071-918d18911d07"
      },
      "source": [
        "print(type(d))\r\n",
        "print(d[\"1\"])"
      ],
      "execution_count": null,
      "outputs": [
        {
          "output_type": "stream",
          "text": [
            "<class 'dict'>\n",
            "Iron Man\n"
          ],
          "name": "stdout"
        }
      ]
    },
    {
      "cell_type": "code",
      "metadata": {
        "colab": {
          "base_uri": "https://localhost:8080/"
        },
        "id": "4b-xqNTKL2xW",
        "outputId": "6e3c2664-72eb-47ea-b40b-a80166a9326a"
      },
      "source": [
        "for key in d:\r\n",
        "  print(key)\r\n",
        "  print(d[key])"
      ],
      "execution_count": null,
      "outputs": [
        {
          "output_type": "stream",
          "text": [
            "1\n",
            "Iron Man\n",
            "2\n",
            "Captain america\n",
            "3\n",
            "Thor\n"
          ],
          "name": "stdout"
        }
      ]
    },
    {
      "cell_type": "code",
      "metadata": {
        "colab": {
          "base_uri": "https://localhost:8080/"
        },
        "id": "k6cKOz2eL_Jp",
        "outputId": "dfb7ff77-bb31-47c1-fbc2-2bf5b77c3df7"
      },
      "source": [
        "d[\"2\"] = \"Hulk\"\r\n",
        "for key,value in d.items():\r\n",
        "  print(key + \"-\" + value)"
      ],
      "execution_count": null,
      "outputs": [
        {
          "output_type": "stream",
          "text": [
            "1-Iron Man\n",
            "2-Hulk\n",
            "3-Thor\n"
          ],
          "name": "stdout"
        }
      ]
    },
    {
      "cell_type": "code",
      "metadata": {
        "colab": {
          "base_uri": "https://localhost:8080/",
          "height": 229
        },
        "id": "-D-B1k7CMVxg",
        "outputId": "070a61a2-1522-4e0a-f0c3-0a38a0b333a9"
      },
      "source": [
        "d[\"4\"]\r\n",
        "d[\"2\"]\r\n",
        "print(d.items())\r\n",
        "d.pop(4)\r\n",
        "print(d.items())\r\n",
        "del d[2]"
      ],
      "execution_count": null,
      "outputs": [
        {
          "output_type": "error",
          "ename": "KeyError",
          "evalue": "ignored",
          "traceback": [
            "\u001b[0;31m---------------------------------------------------------------------------\u001b[0m",
            "\u001b[0;31mKeyError\u001b[0m                                  Traceback (most recent call last)",
            "\u001b[0;32m<ipython-input-31-d91af147a9a4>\u001b[0m in \u001b[0;36m<module>\u001b[0;34m()\u001b[0m\n\u001b[0;32m----> 1\u001b[0;31m \u001b[0md\u001b[0m\u001b[0;34m[\u001b[0m\u001b[0;36m4\u001b[0m\u001b[0;34m]\u001b[0m\u001b[0;34m\u001b[0m\u001b[0;34m\u001b[0m\u001b[0m\n\u001b[0m\u001b[1;32m      2\u001b[0m \u001b[0md\u001b[0m\u001b[0;34m[\u001b[0m\u001b[0;36m2\u001b[0m\u001b[0;34m]\u001b[0m\u001b[0;34m\u001b[0m\u001b[0;34m\u001b[0m\u001b[0m\n\u001b[1;32m      3\u001b[0m \u001b[0mprint\u001b[0m\u001b[0;34m(\u001b[0m\u001b[0md\u001b[0m\u001b[0;34m.\u001b[0m\u001b[0mitems\u001b[0m\u001b[0;34m(\u001b[0m\u001b[0;34m)\u001b[0m\u001b[0;34m)\u001b[0m\u001b[0;34m\u001b[0m\u001b[0;34m\u001b[0m\u001b[0m\n\u001b[1;32m      4\u001b[0m \u001b[0md\u001b[0m\u001b[0;34m.\u001b[0m\u001b[0mpop\u001b[0m\u001b[0;34m(\u001b[0m\u001b[0;36m4\u001b[0m\u001b[0;34m)\u001b[0m\u001b[0;34m\u001b[0m\u001b[0;34m\u001b[0m\u001b[0m\n\u001b[1;32m      5\u001b[0m \u001b[0mprint\u001b[0m\u001b[0;34m(\u001b[0m\u001b[0md\u001b[0m\u001b[0;34m.\u001b[0m\u001b[0mitems\u001b[0m\u001b[0;34m(\u001b[0m\u001b[0;34m)\u001b[0m\u001b[0;34m)\u001b[0m\u001b[0;34m\u001b[0m\u001b[0;34m\u001b[0m\u001b[0m\n",
            "\u001b[0;31mKeyError\u001b[0m: 4"
          ]
        }
      ]
    },
    {
      "cell_type": "markdown",
      "metadata": {
        "id": "gplgnFvHXBBg"
      },
      "source": [
        "**Exceptional Handling**"
      ]
    },
    {
      "cell_type": "code",
      "metadata": {
        "colab": {
          "base_uri": "https://localhost:8080/"
        },
        "id": "eBGpvjEUXHDJ",
        "outputId": "5f87149c-eb54-4ee6-8d89-e8dd58930fc0"
      },
      "source": [
        "x=9\r\n",
        "try:\r\n",
        "  print(x)\r\n",
        "except:\r\n",
        "  print(\"something is wrong\")"
      ],
      "execution_count": null,
      "outputs": [
        {
          "output_type": "stream",
          "text": [
            "9\n"
          ],
          "name": "stdout"
        }
      ]
    },
    {
      "cell_type": "code",
      "metadata": {
        "colab": {
          "base_uri": "https://localhost:8080/"
        },
        "id": "zX6rih8haGD4",
        "outputId": "1f05e337-83e1-4813-b26a-313ff18b6db2"
      },
      "source": [
        "x=9\r\n",
        "try:\r\n",
        "  print(x)\r\n",
        "except:\r\n",
        "  print(\"something is wrong\")\r\n",
        "finally:\r\n",
        "  print(\"Finally always execute after try-except\")"
      ],
      "execution_count": null,
      "outputs": [
        {
          "output_type": "stream",
          "text": [
            "9\n",
            "Finally always execute after try-except\n"
          ],
          "name": "stdout"
        }
      ]
    },
    {
      "cell_type": "markdown",
      "metadata": {
        "id": "YvhrchIwaXj-"
      },
      "source": [
        "**Function**"
      ]
    },
    {
      "cell_type": "code",
      "metadata": {
        "id": "6Ar86Ef0bu7h"
      },
      "source": [
        ""
      ],
      "execution_count": null,
      "outputs": []
    },
    {
      "cell_type": "code",
      "metadata": {
        "id": "I2Mu4o4Da7YF"
      },
      "source": [
        "def squared(x):\r\n",
        "  print(x*x)\r\n",
        "  return x*x"
      ],
      "execution_count": null,
      "outputs": []
    },
    {
      "cell_type": "code",
      "metadata": {
        "colab": {
          "base_uri": "https://localhost:8080/"
        },
        "id": "dBN9QO9lbqyg",
        "outputId": "cecbef66-c9ab-450b-9599-b23a88352773"
      },
      "source": [
        "res = squared(4)\r\n",
        "print(res)"
      ],
      "execution_count": null,
      "outputs": [
        {
          "output_type": "stream",
          "text": [
            "16\n",
            "16\n"
          ],
          "name": "stdout"
        }
      ]
    },
    {
      "cell_type": "markdown",
      "metadata": {
        "id": "cMlmXREWbd6x"
      },
      "source": [
        "**Which is fast**"
      ]
    },
    {
      "cell_type": "code",
      "metadata": {
        "id": "pxuZ_YTEbjA-",
        "colab": {
          "base_uri": "https://localhost:8080/"
        },
        "outputId": "933b74cf-90ae-439e-c1a5-9c197973a158"
      },
      "source": [
        "import time\r\n",
        "\r\n",
        "my_tuple = tuple(range(300000000))\r\n",
        "tic = time.time()\r\n",
        "print(tic)\r\n",
        "my_tuple_squared = map(lambda i : i**2, my_tuple)\r\n",
        "toc = time.time()\r\n",
        "print(toc)\r\n",
        "t = toc-tic\r\n",
        "print(\"Elapsed time in seconds for tuple %.8f\"%t)"
      ],
      "execution_count": null,
      "outputs": [
        {
          "output_type": "stream",
          "text": [
            "1608637045.2981482\n",
            "1608637045.298424\n",
            "Elapsed time in seconds for tuple 0.00027585\n"
          ],
          "name": "stdout"
        }
      ]
    },
    {
      "cell_type": "code",
      "metadata": {
        "colab": {
          "base_uri": "https://localhost:8080/"
        },
        "id": "tGQVejCDhohM",
        "outputId": "d2b9970d-53ef-4db8-ed89-799b8db23b8f"
      },
      "source": [
        "import time\r\n",
        "my_list = list(range(300000000))\r\n",
        "tic = time.time()\r\n",
        "print(tic)\r\n",
        "my_list_squared = map(lambda i : i**2, my_list)\r\n",
        "toc = time.time()\r\n",
        "print(toc)\r\n",
        "t = toc-tic\r\n",
        "print(\"Elapsed time in seconds for tuple %.8f\"%t)"
      ],
      "execution_count": null,
      "outputs": [
        {
          "output_type": "stream",
          "text": [
            "1608637118.4281254\n",
            "1608637118.4283996\n",
            "Elapsed time in seconds for tuple 0.00027418\n"
          ],
          "name": "stdout"
        }
      ]
    },
    {
      "cell_type": "markdown",
      "metadata": {
        "id": "7MohJNsFQG9F"
      },
      "source": [
        "**Numpy**"
      ]
    }
  ]
}