{
  "nbformat": 4,
  "nbformat_minor": 0,
  "metadata": {
    "colab": {
      "name": "Numpy Basics.ipynb",
      "provenance": [],
      "authorship_tag": "ABX9TyOcACscJWF89Ub1KYq82MVu",
      "include_colab_link": true
    },
    "kernelspec": {
      "name": "python3",
      "display_name": "Python 3"
    }
  },
  "cells": [
    {
      "cell_type": "markdown",
      "metadata": {
        "id": "view-in-github",
        "colab_type": "text"
      },
      "source": [
        "<a href=\"https://colab.research.google.com/github/lalithatv/Machine_Learning_Basics/blob/master/Numpy_Basics.ipynb\" target=\"_parent\"><img src=\"https://colab.research.google.com/assets/colab-badge.svg\" alt=\"Open In Colab\"/></a>"
      ]
    },
    {
      "cell_type": "code",
      "metadata": {
        "id": "07-29kfvYUdT"
      },
      "source": [
        "import numpy as np"
      ],
      "execution_count": null,
      "outputs": []
    },
    {
      "cell_type": "markdown",
      "metadata": {
        "id": "5sJSkdqDZ2-q"
      },
      "source": [
        "**Creating one dimentional matrix**"
      ]
    },
    {
      "cell_type": "code",
      "metadata": {
        "colab": {
          "base_uri": "https://localhost:8080/"
        },
        "id": "eOXDyqG5ZbQJ",
        "outputId": "d7b10343-8551-411a-b735-ec79b324331a"
      },
      "source": [
        "a = np.array([1,2,3])\r\n",
        "print(a)"
      ],
      "execution_count": null,
      "outputs": [
        {
          "output_type": "stream",
          "text": [
            "[1 2 3]\n"
          ],
          "name": "stdout"
        }
      ]
    },
    {
      "cell_type": "code",
      "metadata": {
        "colab": {
          "base_uri": "https://localhost:8080/"
        },
        "id": "VAyhkCiUatvH",
        "outputId": "e365aad3-e579-4811-c1aa-00ce866db484"
      },
      "source": [
        "print(a.shape)\r\n",
        "print(type(a))"
      ],
      "execution_count": null,
      "outputs": [
        {
          "output_type": "stream",
          "text": [
            "(3,)\n",
            "<class 'numpy.ndarray'>\n"
          ],
          "name": "stdout"
        }
      ]
    },
    {
      "cell_type": "code",
      "metadata": {
        "colab": {
          "base_uri": "https://localhost:8080/"
        },
        "id": "WMO_9n2_cELp",
        "outputId": "bc801a66-3dba-43a7-f78d-984b72e5e39f"
      },
      "source": [
        "b = np.array([1.1,2.2,3.3])\r\n",
        "print(b)"
      ],
      "execution_count": null,
      "outputs": [
        {
          "output_type": "stream",
          "text": [
            "[1.1 2.2 3.3]\n"
          ],
          "name": "stdout"
        }
      ]
    },
    {
      "cell_type": "code",
      "metadata": {
        "colab": {
          "base_uri": "https://localhost:8080/"
        },
        "id": "7iBW_DdicOy_",
        "outputId": "4883e72d-9296-4876-a504-143ea21ff32b"
      },
      "source": [
        "print(b.shape)\r\n",
        "print(type(b))"
      ],
      "execution_count": null,
      "outputs": [
        {
          "output_type": "stream",
          "text": [
            "(3,)\n",
            "<class 'numpy.ndarray'>\n"
          ],
          "name": "stdout"
        }
      ]
    },
    {
      "cell_type": "markdown",
      "metadata": {
        "id": "zUy5h2xVdIp6"
      },
      "source": [
        "**To access the elements**"
      ]
    },
    {
      "cell_type": "code",
      "metadata": {
        "colab": {
          "base_uri": "https://localhost:8080/"
        },
        "id": "lNzV-fzNdG-g",
        "outputId": "b08c007e-727e-42b4-884f-173a9b1618bc"
      },
      "source": [
        "print(a[0])\r\n",
        "print(b[2])"
      ],
      "execution_count": null,
      "outputs": [
        {
          "output_type": "stream",
          "text": [
            "1\n",
            "3.3\n"
          ],
          "name": "stdout"
        }
      ]
    },
    {
      "cell_type": "markdown",
      "metadata": {
        "id": "4H2RrHjVdwjU"
      },
      "source": [
        "**To print type of elements**"
      ]
    },
    {
      "cell_type": "code",
      "metadata": {
        "colab": {
          "base_uri": "https://localhost:8080/"
        },
        "id": "evRIXQ0gd2bj",
        "outputId": "eba7b63b-5b64-4bac-9176-0fe0ab8bd9db"
      },
      "source": [
        "print(type(a[2]))\r\n",
        "print(type(b[1]))"
      ],
      "execution_count": null,
      "outputs": [
        {
          "output_type": "stream",
          "text": [
            "<class 'numpy.int64'>\n",
            "<class 'numpy.float64'>\n"
          ],
          "name": "stdout"
        }
      ]
    },
    {
      "cell_type": "markdown",
      "metadata": {
        "id": "MqxR1Zd8efh3"
      },
      "source": [
        "**Creating two D Matrix**"
      ]
    },
    {
      "cell_type": "code",
      "metadata": {
        "colab": {
          "base_uri": "https://localhost:8080/"
        },
        "id": "wkqkcqXeek7p",
        "outputId": "5b6d6189-90ef-43f3-d0af-03fc0364a433"
      },
      "source": [
        "c = np.array([[1,2],[3,4]])\r\n",
        "print(c)"
      ],
      "execution_count": null,
      "outputs": [
        {
          "output_type": "stream",
          "text": [
            "[[1 2]\n",
            " [3 4]]\n"
          ],
          "name": "stdout"
        }
      ]
    },
    {
      "cell_type": "code",
      "metadata": {
        "colab": {
          "base_uri": "https://localhost:8080/"
        },
        "id": "hxSJavUVfHsv",
        "outputId": "ed08ce95-74e4-4162-dc0d-f4d62a489b7b"
      },
      "source": [
        "print(c.shape)"
      ],
      "execution_count": null,
      "outputs": [
        {
          "output_type": "stream",
          "text": [
            "(2, 2)\n"
          ],
          "name": "stdout"
        }
      ]
    },
    {
      "cell_type": "markdown",
      "metadata": {
        "id": "BFOtoJeSfiVe"
      },
      "source": [
        "**Ones and zeros**"
      ]
    },
    {
      "cell_type": "code",
      "metadata": {
        "id": "Ld-yLXgNfmOS"
      },
      "source": [
        "d = np.ones((2,2))\r\n"
      ],
      "execution_count": null,
      "outputs": []
    },
    {
      "cell_type": "code",
      "metadata": {
        "colab": {
          "base_uri": "https://localhost:8080/"
        },
        "id": "teNreQD5gHKH",
        "outputId": "cba1e2e1-d62b-4d23-d92c-7009253f9b26"
      },
      "source": [
        "print(d)"
      ],
      "execution_count": null,
      "outputs": [
        {
          "output_type": "stream",
          "text": [
            "[[1. 1.]\n",
            " [1. 1.]]\n"
          ],
          "name": "stdout"
        }
      ]
    },
    {
      "cell_type": "code",
      "metadata": {
        "colab": {
          "base_uri": "https://localhost:8080/"
        },
        "id": "Kw_8PhLQgI2Z",
        "outputId": "a2a543e6-1073-45f7-a129-c6f705404583"
      },
      "source": [
        "print(d.shape)\r\n",
        "print(type(d))\r\n",
        "print(type(d[0][0]))"
      ],
      "execution_count": null,
      "outputs": [
        {
          "output_type": "stream",
          "text": [
            "(2, 2)\n",
            "<class 'numpy.ndarray'>\n",
            "<class 'numpy.float64'>\n"
          ],
          "name": "stdout"
        }
      ]
    },
    {
      "cell_type": "code",
      "metadata": {
        "id": "_0bIRjYkhYos"
      },
      "source": [
        "e = np.zeros((3,3))"
      ],
      "execution_count": null,
      "outputs": []
    },
    {
      "cell_type": "code",
      "metadata": {
        "colab": {
          "base_uri": "https://localhost:8080/"
        },
        "id": "tM60WC8WheMy",
        "outputId": "ca10405d-a84b-4178-a662-acb8af3c9ebb"
      },
      "source": [
        "print(e)"
      ],
      "execution_count": null,
      "outputs": [
        {
          "output_type": "stream",
          "text": [
            "[[0. 0. 0.]\n",
            " [0. 0. 0.]\n",
            " [0. 0. 0.]]\n"
          ],
          "name": "stdout"
        }
      ]
    },
    {
      "cell_type": "code",
      "metadata": {
        "colab": {
          "base_uri": "https://localhost:8080/"
        },
        "id": "BxUZx__9hpJk",
        "outputId": "358ed7a3-8b97-43da-c9ee-e72fb20170bf"
      },
      "source": [
        "print(e.shape)\r\n",
        "print(type(e))\r\n",
        "print(type(e[0][0]))"
      ],
      "execution_count": null,
      "outputs": [
        {
          "output_type": "stream",
          "text": [
            "(3, 3)\n",
            "<class 'numpy.ndarray'>\n",
            "<class 'numpy.float64'>\n"
          ],
          "name": "stdout"
        }
      ]
    },
    {
      "cell_type": "markdown",
      "metadata": {
        "id": "TbslcjIIjFMq"
      },
      "source": [
        ""
      ]
    },
    {
      "cell_type": "markdown",
      "metadata": {
        "id": "GPQU8LfUiouO"
      },
      "source": [
        "**Create Random number matrix**"
      ]
    },
    {
      "cell_type": "code",
      "metadata": {
        "id": "xWiqO4kYi55g"
      },
      "source": [
        "f = np.random.random((2,2))"
      ],
      "execution_count": null,
      "outputs": []
    },
    {
      "cell_type": "code",
      "metadata": {
        "colab": {
          "base_uri": "https://localhost:8080/"
        },
        "id": "ecjlGS3kjh4X",
        "outputId": "0dca2739-2ac0-40ba-d143-1672cbe23611"
      },
      "source": [
        "print(f)"
      ],
      "execution_count": null,
      "outputs": [
        {
          "output_type": "stream",
          "text": [
            "[[0.5108992  0.52894254]\n",
            " [0.32296936 0.19543462]]\n"
          ],
          "name": "stdout"
        }
      ]
    },
    {
      "cell_type": "code",
      "metadata": {
        "colab": {
          "base_uri": "https://localhost:8080/"
        },
        "id": "LbV9dPzxjrrE",
        "outputId": "ab2a5100-2f13-47da-b09d-55ff742abd1f"
      },
      "source": [
        "print(f.shape)"
      ],
      "execution_count": null,
      "outputs": [
        {
          "output_type": "stream",
          "text": [
            "(2, 2)\n"
          ],
          "name": "stdout"
        }
      ]
    },
    {
      "cell_type": "markdown",
      "metadata": {
        "id": "tRmY3Y_Jk6fM"
      },
      "source": [
        "**Array Math**"
      ]
    },
    {
      "cell_type": "code",
      "metadata": {
        "colab": {
          "base_uri": "https://localhost:8080/"
        },
        "id": "7NVQWSm9k9gb",
        "outputId": "28dd1c55-c489-42ba-8156-3f381535d4ab"
      },
      "source": [
        "add = a+b\r\n",
        "print(\"addition\")\r\n",
        "print(add)\r\n",
        "print(np.add(a,b))\r\n"
      ],
      "execution_count": null,
      "outputs": [
        {
          "output_type": "stream",
          "text": [
            "addition\n",
            "[2.1 4.2 6.3]\n",
            "[2.1 4.2 6.3]\n"
          ],
          "name": "stdout"
        }
      ]
    },
    {
      "cell_type": "code",
      "metadata": {
        "colab": {
          "base_uri": "https://localhost:8080/"
        },
        "id": "RmO5EyAilsQ0",
        "outputId": "2028a41e-5ed3-4f05-9b42-155308a61d29"
      },
      "source": [
        "sub = a-b\r\n",
        "print(\"subtraction\")\r\n",
        "print(sub)\r\n",
        "print(np.subtract(a,b))\r\n"
      ],
      "execution_count": null,
      "outputs": [
        {
          "output_type": "stream",
          "text": [
            "subtraction\n",
            "[-0.1 -0.2 -0.3]\n",
            "[-0.1 -0.2 -0.3]\n"
          ],
          "name": "stdout"
        }
      ]
    },
    {
      "cell_type": "code",
      "metadata": {
        "colab": {
          "base_uri": "https://localhost:8080/"
        },
        "id": "PB-TI2qDmCbo",
        "outputId": "c9f0e7b5-bcb3-4c07-d4ba-fd31d9493655"
      },
      "source": [
        "mul = a*b\r\n",
        "print(\"multiplication\")\r\n",
        "print(mul)\r\n",
        "print(np.multiply(a,b))\r\n"
      ],
      "execution_count": null,
      "outputs": [
        {
          "output_type": "stream",
          "text": [
            "multiplication\n",
            "[1.1 4.4 9.9]\n",
            "[1.1 4.4 9.9]\n"
          ],
          "name": "stdout"
        }
      ]
    },
    {
      "cell_type": "code",
      "metadata": {
        "colab": {
          "base_uri": "https://localhost:8080/"
        },
        "id": "XZqAgq63mTX8",
        "outputId": "6fdc27c8-0903-4dc6-f1c4-f44785b59b9f"
      },
      "source": [
        "div = a/b\r\n",
        "print(\"division\")\r\n",
        "print(div)\r\n",
        "print(np.divide(a,b))\r\n"
      ],
      "execution_count": null,
      "outputs": [
        {
          "output_type": "stream",
          "text": [
            "division\n",
            "[0.90909091 0.90909091 0.90909091]\n",
            "[0.90909091 0.90909091 0.90909091]\n"
          ],
          "name": "stdout"
        }
      ]
    },
    {
      "cell_type": "markdown",
      "metadata": {
        "id": "rk-Tob_eobGX"
      },
      "source": [
        "**Array Concat**\r\n"
      ]
    },
    {
      "cell_type": "code",
      "metadata": {
        "id": "KLRqzqK4ofBQ"
      },
      "source": [
        "v1 = np.array([1,2,3])\r\n",
        "v2 = np.array([4,5,6])"
      ],
      "execution_count": null,
      "outputs": []
    },
    {
      "cell_type": "code",
      "metadata": {
        "colab": {
          "base_uri": "https://localhost:8080/"
        },
        "id": "6wsPBs5so8rT",
        "outputId": "646dc22a-05de-44f7-c07e-46209e6f78ad"
      },
      "source": [
        "print(v1)\r\n",
        "print(v2)"
      ],
      "execution_count": null,
      "outputs": [
        {
          "output_type": "stream",
          "text": [
            "[1 2 3]\n",
            "[4 5 6]\n"
          ],
          "name": "stdout"
        }
      ]
    },
    {
      "cell_type": "code",
      "metadata": {
        "colab": {
          "base_uri": "https://localhost:8080/"
        },
        "id": "kAfKOk_gpQGl",
        "outputId": "232cbfa8-badb-4865-d8a2-74640e47c172"
      },
      "source": [
        "print(v1.shape)\r\n",
        "print(v2.shape)"
      ],
      "execution_count": null,
      "outputs": [
        {
          "output_type": "stream",
          "text": [
            "(3,)\n",
            "(3,)\n"
          ],
          "name": "stdout"
        }
      ]
    },
    {
      "cell_type": "code",
      "metadata": {
        "id": "rNVEjbf6puRQ"
      },
      "source": [
        "concat = np.concatenate( (v1,v2) )"
      ],
      "execution_count": null,
      "outputs": []
    },
    {
      "cell_type": "code",
      "metadata": {
        "colab": {
          "base_uri": "https://localhost:8080/"
        },
        "id": "xHFbRtg2p72i",
        "outputId": "7bed3d98-8302-46a0-ecaa-acdd57f5a6a1"
      },
      "source": [
        "print(concat)"
      ],
      "execution_count": null,
      "outputs": [
        {
          "output_type": "stream",
          "text": [
            "[1 2 3 4 5 6]\n"
          ],
          "name": "stdout"
        }
      ]
    },
    {
      "cell_type": "code",
      "metadata": {
        "colab": {
          "base_uri": "https://localhost:8080/"
        },
        "id": "UhIa6gA5qKAZ",
        "outputId": "fd6309e9-c0f4-4fb1-9b2b-d08ab7ba1b8e"
      },
      "source": [
        "print(concat.shape)"
      ],
      "execution_count": null,
      "outputs": [
        {
          "output_type": "stream",
          "text": [
            "(6,)\n"
          ],
          "name": "stdout"
        }
      ]
    },
    {
      "cell_type": "code",
      "metadata": {
        "id": "g5PDzYhdqr3N"
      },
      "source": [
        "v3 = np.array([[1,2,3],[4,5,6]])\r\n",
        "v4 = np.array([[40,40,40],[50,50,50]])"
      ],
      "execution_count": null,
      "outputs": []
    },
    {
      "cell_type": "code",
      "metadata": {
        "colab": {
          "base_uri": "https://localhost:8080/"
        },
        "id": "fjXOvTyarMch",
        "outputId": "cef92b7d-ca37-4c4a-8b30-f8c002543020"
      },
      "source": [
        "print(v3)\r\n",
        "print(v4)"
      ],
      "execution_count": null,
      "outputs": [
        {
          "output_type": "stream",
          "text": [
            "[[1 2 3]\n",
            " [4 5 6]]\n",
            "[[40 40 40]\n",
            " [50 50 50]]\n"
          ],
          "name": "stdout"
        }
      ]
    },
    {
      "cell_type": "code",
      "metadata": {
        "colab": {
          "base_uri": "https://localhost:8080/"
        },
        "id": "PGb-g-e4rs2X",
        "outputId": "7dcb898c-1c80-404f-9099-759a2659a055"
      },
      "source": [
        "print(v3.shape)\r\n",
        "print(v4.shape)"
      ],
      "execution_count": null,
      "outputs": [
        {
          "output_type": "stream",
          "text": [
            "(2, 3)\n",
            "(2, 3)\n"
          ],
          "name": "stdout"
        }
      ]
    },
    {
      "cell_type": "code",
      "metadata": {
        "id": "Q5z0TcNqsmPK"
      },
      "source": [
        ""
      ],
      "execution_count": null,
      "outputs": []
    },
    {
      "cell_type": "code",
      "metadata": {
        "colab": {
          "base_uri": "https://localhost:8080/"
        },
        "id": "R1hsar_jsTbo",
        "outputId": "6d61c773-7ac3-4d9b-8aee-a266966cbb6e"
      },
      "source": [
        "concat_0 = np.concatenate( (v3,v4) , axis=0 )\r\n",
        "print(concat_0)\r\n"
      ],
      "execution_count": null,
      "outputs": [
        {
          "output_type": "stream",
          "text": [
            "[[ 1  2  3]\n",
            " [ 4  5  6]\n",
            " [40 40 40]\n",
            " [50 50 50]]\n"
          ],
          "name": "stdout"
        }
      ]
    },
    {
      "cell_type": "code",
      "metadata": {
        "colab": {
          "base_uri": "https://localhost:8080/"
        },
        "id": "sq6ZELK1spcM",
        "outputId": "c9931a7c-5133-4252-b169-763a5564ee77"
      },
      "source": [
        "concat_1 = np.concatenate( (v3,v4) , axis=1 )\r\n",
        "print(concat_1)"
      ],
      "execution_count": null,
      "outputs": [
        {
          "output_type": "stream",
          "text": [
            "[[ 1  2  3 40 40 40]\n",
            " [ 4  5  6 50 50 50]]\n"
          ],
          "name": "stdout"
        }
      ]
    },
    {
      "cell_type": "code",
      "metadata": {
        "colab": {
          "base_uri": "https://localhost:8080/"
        },
        "id": "mIW6FaGJtUFc",
        "outputId": "c7103637-c18d-4ff6-e149-feb340e1292e"
      },
      "source": [
        "v_stack = np.vstack( (v3,v4) )\r\n",
        "print(v_stack)"
      ],
      "execution_count": null,
      "outputs": [
        {
          "output_type": "stream",
          "text": [
            "[[ 1  2  3]\n",
            " [ 4  5  6]\n",
            " [40 40 40]\n",
            " [50 50 50]]\n"
          ],
          "name": "stdout"
        }
      ]
    },
    {
      "cell_type": "code",
      "metadata": {
        "colab": {
          "base_uri": "https://localhost:8080/"
        },
        "id": "AFl-SiX-tn1T",
        "outputId": "1bdaf226-fff8-465e-839d-299fb85827d1"
      },
      "source": [
        "h_stack = np.hstack( (v3,v4) )\r\n",
        "print(h_stack)"
      ],
      "execution_count": null,
      "outputs": [
        {
          "output_type": "stream",
          "text": [
            "[[ 1  2  3 40 40 40]\n",
            " [ 4  5  6 50 50 50]]\n"
          ],
          "name": "stdout"
        }
      ]
    },
    {
      "cell_type": "markdown",
      "metadata": {
        "id": "o8X9Ft9yUGd3"
      },
      "source": [
        "**Expand Dimensions**"
      ]
    },
    {
      "cell_type": "code",
      "metadata": {
        "colab": {
          "base_uri": "https://localhost:8080/"
        },
        "id": "XKZ_hE-DULCH",
        "outputId": "3982ee1b-617a-4e87-c5ff-ebd9cacf8fbf"
      },
      "source": [
        "a = np.array([500,200,100])\r\n",
        "print(a)"
      ],
      "execution_count": null,
      "outputs": [
        {
          "output_type": "stream",
          "text": [
            "[500 200 100]\n"
          ],
          "name": "stdout"
        }
      ]
    },
    {
      "cell_type": "code",
      "metadata": {
        "colab": {
          "base_uri": "https://localhost:8080/"
        },
        "id": "mLjII7wIVA6_",
        "outputId": "359e037b-7337-4637-ae15-6aa1cc9fcab4"
      },
      "source": [
        "#Insert the new axis along the row\r\n",
        "b = np.expand_dims(a,axis=0)\r\n",
        "print(b)\r\n",
        "print(b.shape)"
      ],
      "execution_count": null,
      "outputs": [
        {
          "output_type": "stream",
          "text": [
            "[[500 200 100]]\n",
            "(1, 3)\n"
          ],
          "name": "stdout"
        }
      ]
    },
    {
      "cell_type": "code",
      "metadata": {
        "colab": {
          "base_uri": "https://localhost:8080/"
        },
        "id": "RfdmFMU7VQOO",
        "outputId": "6d5f8195-2887-45a7-aa3c-2b371648c819"
      },
      "source": [
        "#Insert the new axis along the column\r\n",
        "c = np.expand_dims(a,axis=1)\r\n",
        "print(c)\r\n",
        "print(c.shape)"
      ],
      "execution_count": null,
      "outputs": [
        {
          "output_type": "stream",
          "text": [
            "[[500]\n",
            " [200]\n",
            " [100]]\n",
            "(3, 1)\n"
          ],
          "name": "stdout"
        }
      ]
    },
    {
      "cell_type": "markdown",
      "metadata": {
        "id": "KJRlTDg9XKbq"
      },
      "source": [
        "**Unique**"
      ]
    },
    {
      "cell_type": "code",
      "metadata": {
        "id": "6SjYG-VmXNLF"
      },
      "source": [
        "m = np.array([1,2,1,1,4])\r\n"
      ],
      "execution_count": null,
      "outputs": []
    },
    {
      "cell_type": "code",
      "metadata": {
        "id": "elFx9zJ8X_TM"
      },
      "source": [
        "#get unique elements and their indexes"
      ],
      "execution_count": null,
      "outputs": []
    },
    {
      "cell_type": "code",
      "metadata": {
        "colab": {
          "base_uri": "https://localhost:8080/"
        },
        "id": "udCGzsdDYGMb",
        "outputId": "72ba7f9a-ee7e-48c6-bca5-0ac48e1f8f37"
      },
      "source": [
        "n , indices = np.unique ( m ,return_index=True )\r\n",
        "print(n)\r\n",
        "print(indices)"
      ],
      "execution_count": null,
      "outputs": [
        {
          "output_type": "stream",
          "text": [
            "[1 2 4]\n",
            "[0 1 4]\n"
          ],
          "name": "stdout"
        }
      ]
    }
  ]
}